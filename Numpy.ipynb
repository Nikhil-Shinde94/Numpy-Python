{
  "nbformat": 4,
  "nbformat_minor": 0,
  "metadata": {
    "colab": {
      "name": "Assignment_Numpy.ipynb",
      "provenance": [],
      "collapsed_sections": []
    },
    "kernelspec": {
      "name": "python3",
      "display_name": "Python 3"
    }
  },
  "cells": [
    {
      "cell_type": "code",
      "metadata": {
        "id": "KxnZUw3Li-_Q",
        "colab_type": "code",
        "colab": {}
      },
      "source": [
        "#Import the numpy package under the name np\n",
        "\n",
        "import numpy as np"
      ],
      "execution_count": null,
      "outputs": []
    },
    {
      "cell_type": "code",
      "metadata": {
        "id": "U7D3Lx_Jjo2r",
        "colab_type": "code",
        "colab": {
          "base_uri": "https://localhost:8080/",
          "height": 514
        },
        "outputId": "3564eea4-d1e9-477a-e240-1a58f1743178"
      },
      "source": [
        "#Print the numpy version and the configuration \n",
        "\n",
        "print(np.__version__)\n",
        "print(np.show_config())"
      ],
      "execution_count": null,
      "outputs": [
        {
          "output_type": "stream",
          "text": [
            "1.18.4\n",
            "blas_mkl_info:\n",
            "  NOT AVAILABLE\n",
            "blis_info:\n",
            "  NOT AVAILABLE\n",
            "openblas_info:\n",
            "    libraries = ['openblas', 'openblas']\n",
            "    library_dirs = ['/usr/local/lib']\n",
            "    language = c\n",
            "    define_macros = [('HAVE_CBLAS', None)]\n",
            "blas_opt_info:\n",
            "    libraries = ['openblas', 'openblas']\n",
            "    library_dirs = ['/usr/local/lib']\n",
            "    language = c\n",
            "    define_macros = [('HAVE_CBLAS', None)]\n",
            "lapack_mkl_info:\n",
            "  NOT AVAILABLE\n",
            "openblas_lapack_info:\n",
            "    libraries = ['openblas', 'openblas']\n",
            "    library_dirs = ['/usr/local/lib']\n",
            "    language = c\n",
            "    define_macros = [('HAVE_CBLAS', None)]\n",
            "lapack_opt_info:\n",
            "    libraries = ['openblas', 'openblas']\n",
            "    library_dirs = ['/usr/local/lib']\n",
            "    language = c\n",
            "    define_macros = [('HAVE_CBLAS', None)]\n",
            "None\n"
          ],
          "name": "stdout"
        }
      ]
    },
    {
      "cell_type": "code",
      "metadata": {
        "id": "dKhKkErYj1PX",
        "colab_type": "code",
        "colab": {
          "base_uri": "https://localhost:8080/",
          "height": 34
        },
        "outputId": "f58b673c-0403-4cc9-c6d7-e94153f8d16e"
      },
      "source": [
        "#Create a null vector of size 10\n",
        "\n",
        "a = np.zeros(10)\n",
        "print(a)"
      ],
      "execution_count": null,
      "outputs": [
        {
          "output_type": "stream",
          "text": [
            "[0. 0. 0. 0. 0. 0. 0. 0. 0. 0.]\n"
          ],
          "name": "stdout"
        }
      ]
    },
    {
      "cell_type": "code",
      "metadata": {
        "id": "ykksEaj4kWTu",
        "colab_type": "code",
        "colab": {
          "base_uri": "https://localhost:8080/",
          "height": 52
        },
        "outputId": "abfe9175-7c02-416d-8077-e6ee2bdb1513"
      },
      "source": [
        "#How to find the memory size of any array\n",
        "\n",
        "a = np.ones((5,5))\n",
        "print(a.size * a.itemsize)\n",
        "\n",
        "#in this method we have multiplied size of 'a' which is 25 with itemsize which is 8, 25*8.\n",
        "\n",
        "#we can also use\n",
        "from sys import getsizeof\n",
        "getsizeof(a)\n",
        "a.nbytes\n",
        "\n",
        "#in the second method we have imported one library from sys as getsizeof which is mainly used for finding the size of particular array"
      ],
      "execution_count": null,
      "outputs": [
        {
          "output_type": "stream",
          "text": [
            "200\n"
          ],
          "name": "stdout"
        },
        {
          "output_type": "execute_result",
          "data": {
            "text/plain": [
              "200"
            ]
          },
          "metadata": {
            "tags": []
          },
          "execution_count": 20
        }
      ]
    },
    {
      "cell_type": "code",
      "metadata": {
        "id": "O35sZuohlUBC",
        "colab_type": "code",
        "colab": {
          "base_uri": "https://localhost:8080/",
          "height": 70
        },
        "outputId": "e37354f9-ae4c-4513-90d4-3690a864b50f"
      },
      "source": [
        "#Create a null vector of size 10 but the fifth value which is 1\n",
        "\n",
        "b = np.zeros(10)\n",
        "print(b)\n",
        "\n",
        "print(\"updating the 5th value to 1\")\n",
        "b[5] = 1\n",
        "print(b)"
      ],
      "execution_count": null,
      "outputs": [
        {
          "output_type": "stream",
          "text": [
            "[0. 0. 0. 0. 0. 0. 0. 0. 0. 0.]\n",
            "updating the 5th value to 1\n",
            "[0. 0. 0. 0. 0. 1. 0. 0. 0. 0.]\n"
          ],
          "name": "stdout"
        }
      ]
    },
    {
      "cell_type": "code",
      "metadata": {
        "id": "SjHXUcS2m6TV",
        "colab_type": "code",
        "colab": {
          "base_uri": "https://localhost:8080/",
          "height": 52
        },
        "outputId": "9cbf2b30-267b-47bb-af16-49a551b02b2b"
      },
      "source": [
        "# Create a vector with values ranging from 10 to 49\n",
        "\n",
        "b = np.arange(10,49)\n",
        "print(b)"
      ],
      "execution_count": null,
      "outputs": [
        {
          "output_type": "stream",
          "text": [
            "[10 11 12 13 14 15 16 17 18 19 20 21 22 23 24 25 26 27 28 29 30 31 32 33\n",
            " 34 35 36 37 38 39 40 41 42 43 44 45 46 47 48]\n"
          ],
          "name": "stdout"
        }
      ]
    },
    {
      "cell_type": "code",
      "metadata": {
        "id": "6Tv-5IwvoMZb",
        "colab_type": "code",
        "colab": {
          "base_uri": "https://localhost:8080/",
          "height": 141
        },
        "outputId": "68daf865-7221-44a6-d039-1345b3698b86"
      },
      "source": [
        "#Reverse a vector (first element becomes last)\n",
        "\n",
        "b = np.arange(10,49)\n",
        "print(\"oringinal Vector\",b ,\"\\n\")\n",
        "\n",
        "print(\"Reversing the vector:\")\n",
        "b[::-1]"
      ],
      "execution_count": null,
      "outputs": [
        {
          "output_type": "stream",
          "text": [
            "oringinal Vector [10 11 12 13 14 15 16 17 18 19 20 21 22 23 24 25 26 27 28 29 30 31 32 33\n",
            " 34 35 36 37 38 39 40 41 42 43 44 45 46 47 48] \n",
            "\n",
            "Reversing the vector:\n"
          ],
          "name": "stdout"
        },
        {
          "output_type": "execute_result",
          "data": {
            "text/plain": [
              "array([48, 47, 46, 45, 44, 43, 42, 41, 40, 39, 38, 37, 36, 35, 34, 33, 32,\n",
              "       31, 30, 29, 28, 27, 26, 25, 24, 23, 22, 21, 20, 19, 18, 17, 16, 15,\n",
              "       14, 13, 12, 11, 10])"
            ]
          },
          "metadata": {
            "tags": []
          },
          "execution_count": 31
        }
      ]
    },
    {
      "cell_type": "code",
      "metadata": {
        "id": "BkCgTOR1opMl",
        "colab_type": "code",
        "colab": {
          "base_uri": "https://localhost:8080/",
          "height": 203
        },
        "outputId": "a3367132-299b-491c-bf96-49aa9022ddea"
      },
      "source": [
        "#Create a 3x3 matrix with values ranging from 0 to 8 \n",
        "\n",
        "b = np.arange(0,8)\n",
        "n = b.reshap"
      ],
      "execution_count": null,
      "outputs": [
        {
          "output_type": "error",
          "ename": "ValueError",
          "evalue": "ignored",
          "traceback": [
            "\u001b[0;31m---------------------------------------------------------------------------\u001b[0m",
            "\u001b[0;31mValueError\u001b[0m                                Traceback (most recent call last)",
            "\u001b[0;32m<ipython-input-47-0bce9fce81db>\u001b[0m in \u001b[0;36m<module>\u001b[0;34m()\u001b[0m\n\u001b[1;32m      2\u001b[0m \u001b[0;34m\u001b[0m\u001b[0m\n\u001b[1;32m      3\u001b[0m \u001b[0mb\u001b[0m \u001b[0;34m=\u001b[0m \u001b[0mnp\u001b[0m\u001b[0;34m.\u001b[0m\u001b[0marange\u001b[0m\u001b[0;34m(\u001b[0m\u001b[0;36m0\u001b[0m\u001b[0;34m,\u001b[0m\u001b[0;36m8\u001b[0m\u001b[0;34m)\u001b[0m\u001b[0;34m\u001b[0m\u001b[0;34m\u001b[0m\u001b[0m\n\u001b[0;32m----> 4\u001b[0;31m \u001b[0mn\u001b[0m \u001b[0;34m=\u001b[0m \u001b[0mb\u001b[0m\u001b[0;34m.\u001b[0m\u001b[0mreshape\u001b[0m\u001b[0;34m(\u001b[0m\u001b[0;36m4\u001b[0m\u001b[0;34m,\u001b[0m\u001b[0;36m4\u001b[0m\u001b[0;34m)\u001b[0m\u001b[0;34m\u001b[0m\u001b[0;34m\u001b[0m\u001b[0m\n\u001b[0m",
            "\u001b[0;31mValueError\u001b[0m: cannot reshape array of size 8 into shape (4,4)"
          ]
        }
      ]
    },
    {
      "cell_type": "code",
      "metadata": {
        "id": "W5f4xhUdp6zf",
        "colab_type": "code",
        "colab": {
          "base_uri": "https://localhost:8080/",
          "height": 70
        },
        "outputId": "26f2b45d-195b-4347-bb95-0601bc6371d8"
      },
      "source": [
        "#Create a 3x3 identity matrix\n",
        "\n",
        "b = np.identity(3)\n",
        "print(b)"
      ],
      "execution_count": null,
      "outputs": [
        {
          "output_type": "stream",
          "text": [
            "[[1. 0. 0.]\n",
            " [0. 1. 0.]\n",
            " [0. 0. 1.]]\n"
          ],
          "name": "stdout"
        }
      ]
    },
    {
      "cell_type": "code",
      "metadata": {
        "id": "Dt7uT1n1sXhF",
        "colab_type": "code",
        "colab": {
          "base_uri": "https://localhost:8080/",
          "height": 212
        },
        "outputId": "3e7074e6-c7d7-4a4f-88a3-cacf02e38135"
      },
      "source": [
        "#Create a 3x3x3 array with random values\n",
        "\n",
        "b = np.random.random((3,3,3))\n",
        "print(b)"
      ],
      "execution_count": null,
      "outputs": [
        {
          "output_type": "stream",
          "text": [
            "[[[0.78524261 0.23476903 0.530392  ]\n",
            "  [0.53134201 0.0507431  0.88944089]\n",
            "  [0.93142849 0.97067699 0.94429953]]\n",
            "\n",
            " [[0.63287623 0.32893277 0.05139575]\n",
            "  [0.33733384 0.41203162 0.64531517]\n",
            "  [0.27748276 0.33679624 0.74497056]]\n",
            "\n",
            " [[0.47279825 0.53312467 0.83856293]\n",
            "  [0.23218916 0.3871268  0.60150455]\n",
            "  [0.38875949 0.53983296 0.31910593]]]\n"
          ],
          "name": "stdout"
        }
      ]
    },
    {
      "cell_type": "code",
      "metadata": {
        "id": "zCefk6r1s4Zd",
        "colab_type": "code",
        "colab": {
          "base_uri": "https://localhost:8080/",
          "height": 443
        },
        "outputId": "13ab901d-e0fb-47d7-f395-4093b3d7b377"
      },
      "source": [
        "#Create a 10x10 array with random values and find the minimum and maximum values\n",
        "\n",
        "b = np.random.random((10,10))\n",
        "print(b, \"\\n\")\n",
        "\n",
        "print(\"Minimum Value is:\", b.min(), \"\\n\")\n",
        "\n",
        "print(\"Maximum Value is:\", b.max())"
      ],
      "execution_count": null,
      "outputs": [
        {
          "output_type": "stream",
          "text": [
            "[[0.01009824 0.84441579 0.33006811 0.63682493 0.34487869 0.86065828\n",
            "  0.24108371 0.7042152  0.21256972 0.61399732]\n",
            " [0.82579082 0.82720301 0.09041795 0.80209704 0.38358457 0.18306348\n",
            "  0.57941771 0.78272777 0.89777069 0.8423796 ]\n",
            " [0.34334784 0.39148523 0.04606123 0.36748253 0.83173639 0.7700576\n",
            "  0.80373695 0.7005736  0.02929934 0.45573841]\n",
            " [0.70541132 0.88416348 0.8346658  0.61698768 0.95975028 0.99200432\n",
            "  0.98765562 0.47762113 0.56854463 0.91353873]\n",
            " [0.70997391 0.65799122 0.41038182 0.68272445 0.35497938 0.91040832\n",
            "  0.6770795  0.12975113 0.71478544 0.27125381]\n",
            " [0.97507334 0.18936451 0.35784097 0.67627204 0.09340722 0.16235517\n",
            "  0.39570852 0.25439054 0.10641188 0.20625147]\n",
            " [0.09286995 0.39857181 0.29963118 0.61000998 0.29162201 0.86516317\n",
            "  0.81859246 0.87357477 0.68460784 0.69011863]\n",
            " [0.77028252 0.25020071 0.52064703 0.57848938 0.08376003 0.68451287\n",
            "  0.99017448 0.46428504 0.10529539 0.15114648]\n",
            " [0.96121119 0.35933656 0.34160564 0.24449528 0.95536347 0.91958571\n",
            "  0.63150952 0.79737639 0.15341608 0.83068715]\n",
            " [0.26672596 0.96068699 0.61820734 0.41482574 0.85059969 0.15167146\n",
            "  0.54330166 0.38742948 0.88869058 0.01539198]] \n",
            "\n",
            "Minimum Value is: 0.010098241317811452 \n",
            "\n",
            "Maximum Value is: 0.9920043239407444\n"
          ],
          "name": "stdout"
        }
      ]
    },
    {
      "cell_type": "code",
      "metadata": {
        "id": "1VzjYRu4tjIF",
        "colab_type": "code",
        "colab": {
          "base_uri": "https://localhost:8080/",
          "height": 141
        },
        "outputId": "97e85ca6-2e8c-4db7-9f06-e160a260047a"
      },
      "source": [
        "#Create a random vector of size 30 and find the mean value\n",
        "\n",
        "a = np.random.random(30)\n",
        "print(\"original array\", a, \"\\n\")\n",
        "\n",
        "print(\"The Mean Value is :\",a.mean())"
      ],
      "execution_count": null,
      "outputs": [
        {
          "output_type": "stream",
          "text": [
            "original array [0.60498093 0.01178016 0.17074768 0.10380434 0.72042586 0.87187857\n",
            " 0.70128567 0.79377153 0.43939553 0.33845743 0.68492591 0.85663664\n",
            " 0.94245709 0.87814293 0.40699625 0.46185695 0.5313962  0.19994441\n",
            " 0.7704329  0.83825803 0.97951379 0.32950928 0.16730017 0.94022318\n",
            " 0.59751683 0.60081349 0.92377252 0.04185909 0.68775043 0.60105731] \n",
            "\n",
            "The Mean Value is : 0.5732297040875962\n"
          ],
          "name": "stdout"
        }
      ]
    },
    {
      "cell_type": "code",
      "metadata": {
        "id": "UdeMUcxZum3g",
        "colab_type": "code",
        "colab": {
          "base_uri": "https://localhost:8080/",
          "height": 247
        },
        "outputId": "6edb06d3-8a23-4b4f-ef52-298224e21880"
      },
      "source": [
        "#Create a 2d array with 1 on the border and 0 inside\n",
        "\n",
        "a = np.ones((5,5))\n",
        "print(\"Original Array is :\")\n",
        "print(a,\"\\n\")\n",
        "\n",
        "a[1:-1,1:-1] = 0\n",
        "print(\"array with 1 on the bordr and 0 inside\")\n",
        "print(a)"
      ],
      "execution_count": null,
      "outputs": [
        {
          "output_type": "stream",
          "text": [
            "Original Array is :\n",
            "[[1. 1. 1. 1. 1.]\n",
            " [1. 1. 1. 1. 1.]\n",
            " [1. 1. 1. 1. 1.]\n",
            " [1. 1. 1. 1. 1.]\n",
            " [1. 1. 1. 1. 1.]] \n",
            "\n",
            "array with 1 on the bordr and 0 inside\n",
            "[[1. 1. 1. 1. 1.]\n",
            " [1. 0. 0. 0. 1.]\n",
            " [1. 0. 0. 0. 1.]\n",
            " [1. 0. 0. 0. 1.]\n",
            " [1. 1. 1. 1. 1.]]\n"
          ],
          "name": "stdout"
        }
      ]
    },
    {
      "cell_type": "code",
      "metadata": {
        "id": "IpQd3vzKwEs0",
        "colab_type": "code",
        "colab": {
          "base_uri": "https://localhost:8080/",
          "height": 265
        },
        "outputId": "e107ed7a-25e3-4d9b-b46d-0ccd061d8aaf"
      },
      "source": [
        "#How to add a border (filled with 0’s) around an existing array? \n",
        "a = np.ones((5,5))\n",
        "print(a, \"\\n\")\n",
        "\n",
        "print(\"0 on the border and 1 inside in the array\")\n",
        "a = np.pad(a, pad_width=1, mode='constant', constant_values=0)\n",
        "print(a)"
      ],
      "execution_count": null,
      "outputs": [
        {
          "output_type": "stream",
          "text": [
            "[[1. 1. 1. 1. 1.]\n",
            " [1. 1. 1. 1. 1.]\n",
            " [1. 1. 1. 1. 1.]\n",
            " [1. 1. 1. 1. 1.]\n",
            " [1. 1. 1. 1. 1.]] \n",
            "\n",
            "0 on the border and 1 inside in the array\n",
            "[[0. 0. 0. 0. 0. 0. 0.]\n",
            " [0. 1. 1. 1. 1. 1. 0.]\n",
            " [0. 1. 1. 1. 1. 1. 0.]\n",
            " [0. 1. 1. 1. 1. 1. 0.]\n",
            " [0. 1. 1. 1. 1. 1. 0.]\n",
            " [0. 1. 1. 1. 1. 1. 0.]\n",
            " [0. 0. 0. 0. 0. 0. 0.]]\n"
          ],
          "name": "stdout"
        }
      ]
    },
    {
      "cell_type": "code",
      "metadata": {
        "id": "zw7p-vq0w__h",
        "colab_type": "code",
        "colab": {
          "base_uri": "https://localhost:8080/",
          "height": 87
        },
        "outputId": "561f84bf-404a-4f8f-a192-a88e8282f03f"
      },
      "source": [
        "#Create a 5x5 matrix with values 1,2,3,4 just below the diagonal\n",
        "\n",
        "a = np.diag([1,2,3,4])\n",
        "print(a)"
      ],
      "execution_count": null,
      "outputs": [
        {
          "output_type": "stream",
          "text": [
            "[[1 0 0 0]\n",
            " [0 2 0 0]\n",
            " [0 0 3 0]\n",
            " [0 0 0 4]]\n"
          ],
          "name": "stdout"
        }
      ]
    },
    {
      "cell_type": "code",
      "metadata": {
        "id": "viXNctFQymSy",
        "colab_type": "code",
        "colab": {
          "base_uri": "https://localhost:8080/",
          "height": 247
        },
        "outputId": "822f8448-40d7-4da0-a4cc-9bbb16cfb0a3"
      },
      "source": [
        "#Normalize a 5x5 random matrix\n",
        "\n",
        "a = np.random.random((5,5))\n",
        "print(\"Original Matrix\")\n",
        "print(a, \"\\n\")\n",
        "\n",
        "amax , amin = a.max(), a.min()\n",
        "a = (a - amin) / (amax - amin)\n",
        "print(\"Matrix After Normalization\")\n",
        "print(a)"
      ],
      "execution_count": null,
      "outputs": [
        {
          "output_type": "stream",
          "text": [
            "Original Matrix\n",
            "[[0.08389021 0.60859045 0.20641512 0.68669743 0.3489012 ]\n",
            " [0.63497057 0.45442193 0.14341745 0.88149612 0.94887271]\n",
            " [0.07257181 0.56039209 0.21402343 0.45003377 0.2255522 ]\n",
            " [0.579816   0.75886926 0.32901833 0.58820119 0.50668245]\n",
            " [0.24833104 0.90629863 0.70351234 0.16705149 0.69654965]] \n",
            "\n",
            "Matrix After Normalization\n",
            "[[0.01291612 0.61168332 0.1527367  0.70081592 0.31533619]\n",
            " [0.64178726 0.43575229 0.08084625 0.9231125  1.        ]\n",
            " [0.         0.55668125 0.16141901 0.43074469 0.17457519]\n",
            " [0.57884706 0.78317556 0.29264665 0.5884159  0.49538993]\n",
            " [0.20056951 0.95141614 0.72000443 0.10781648 0.71205889]]\n"
          ],
          "name": "stdout"
        }
      ]
    },
    {
      "cell_type": "code",
      "metadata": {
        "id": "LPTQLPYv1Fry",
        "colab_type": "code",
        "colab": {
          "base_uri": "https://localhost:8080/",
          "height": 336
        },
        "outputId": "9f006a74-e18b-4c48-f53c-41e5758d6f89"
      },
      "source": [
        "#Multiply a 5x3 matrix by a 3x2 matrix (real matrix product) \n",
        "\n",
        "a = np.random.random((5,3))\n",
        "print(\"first Matrix\")\n",
        "print(a, \"\\n\")\n",
        "\n",
        "b = np.random.random((3,2))\n",
        "print(\"Second Matrix\")\n",
        "print(b, \"\\n\")\n",
        "\n",
        "c = np.dot(a,b)\n",
        "print(\"Multiplication of two matrix is\")\n",
        "print(c)"
      ],
      "execution_count": null,
      "outputs": [
        {
          "output_type": "stream",
          "text": [
            "first Matrix\n",
            "[[0.0082422  0.37842177 0.29861672]\n",
            " [0.66762055 0.16430597 0.90146713]\n",
            " [0.10408296 0.84772489 0.57997566]\n",
            " [0.07958201 0.81481753 0.7338168 ]\n",
            " [0.12558237 0.08349075 0.74503648]] \n",
            "\n",
            "Second Matrix\n",
            "[[0.40254131 0.72982393]\n",
            " [0.76653559 0.51286368]\n",
            " [0.66273041 0.0667443 ]] \n",
            "\n",
            "Multiplication of two matrix is\n",
            "[[0.49129396 0.2200251 ]\n",
            " [0.9921209  0.6316798 ]\n",
            " [1.0760765  0.54943962]\n",
            " [1.1429444  0.52494926]\n",
            " [0.60830906 0.18419934]]\n"
          ],
          "name": "stdout"
        }
      ]
    },
    {
      "cell_type": "code",
      "metadata": {
        "id": "c8abKVh73LN_",
        "colab_type": "code",
        "colab": {
          "base_uri": "https://localhost:8080/",
          "height": 381
        },
        "outputId": "3b69315d-33e6-4be0-bfb1-990635a4c91e"
      },
      "source": [
        "#Given a 1D array, negate all elements which are between 3 and 8, in place\n",
        "\n",
        "a = np.arange(0,10)\n",
        "a = np.delete(a,3,8)\n",
        "a"
      ],
      "execution_count": null,
      "outputs": [
        {
          "output_type": "error",
          "ename": "AxisError",
          "evalue": "ignored",
          "traceback": [
            "\u001b[0;31m---------------------------------------------------------------------------\u001b[0m",
            "\u001b[0;31mAxisError\u001b[0m                                 Traceback (most recent call last)",
            "\u001b[0;32m<ipython-input-13-06e6c30f2967>\u001b[0m in \u001b[0;36m<module>\u001b[0;34m()\u001b[0m\n\u001b[1;32m      2\u001b[0m \u001b[0;34m\u001b[0m\u001b[0m\n\u001b[1;32m      3\u001b[0m \u001b[0ma\u001b[0m \u001b[0;34m=\u001b[0m \u001b[0mnp\u001b[0m\u001b[0;34m.\u001b[0m\u001b[0marange\u001b[0m\u001b[0;34m(\u001b[0m\u001b[0;36m0\u001b[0m\u001b[0;34m,\u001b[0m\u001b[0;36m10\u001b[0m\u001b[0;34m)\u001b[0m\u001b[0;34m\u001b[0m\u001b[0;34m\u001b[0m\u001b[0m\n\u001b[0;32m----> 4\u001b[0;31m \u001b[0ma\u001b[0m \u001b[0;34m=\u001b[0m \u001b[0mnp\u001b[0m\u001b[0;34m.\u001b[0m\u001b[0mdelete\u001b[0m\u001b[0;34m(\u001b[0m\u001b[0ma\u001b[0m\u001b[0;34m,\u001b[0m\u001b[0;36m3\u001b[0m\u001b[0;34m,\u001b[0m\u001b[0;36m8\u001b[0m\u001b[0;34m)\u001b[0m\u001b[0;34m\u001b[0m\u001b[0;34m\u001b[0m\u001b[0m\n\u001b[0m\u001b[1;32m      5\u001b[0m \u001b[0ma\u001b[0m\u001b[0;34m\u001b[0m\u001b[0;34m\u001b[0m\u001b[0m\n",
            "\u001b[0;32m<__array_function__ internals>\u001b[0m in \u001b[0;36mdelete\u001b[0;34m(*args, **kwargs)\u001b[0m\n",
            "\u001b[0;32m/usr/local/lib/python3.6/dist-packages/numpy/lib/function_base.py\u001b[0m in \u001b[0;36mdelete\u001b[0;34m(arr, obj, axis)\u001b[0m\n\u001b[1;32m   4302\u001b[0m             \u001b[0;32mreturn\u001b[0m \u001b[0marr\u001b[0m\u001b[0;34m.\u001b[0m\u001b[0mcopy\u001b[0m\u001b[0;34m(\u001b[0m\u001b[0morder\u001b[0m\u001b[0;34m=\u001b[0m\u001b[0marrorder\u001b[0m\u001b[0;34m)\u001b[0m\u001b[0;34m\u001b[0m\u001b[0;34m\u001b[0m\u001b[0m\n\u001b[1;32m   4303\u001b[0m \u001b[0;34m\u001b[0m\u001b[0m\n\u001b[0;32m-> 4304\u001b[0;31m     \u001b[0maxis\u001b[0m \u001b[0;34m=\u001b[0m \u001b[0mnormalize_axis_index\u001b[0m\u001b[0;34m(\u001b[0m\u001b[0maxis\u001b[0m\u001b[0;34m,\u001b[0m \u001b[0mndim\u001b[0m\u001b[0;34m)\u001b[0m\u001b[0;34m\u001b[0m\u001b[0;34m\u001b[0m\u001b[0m\n\u001b[0m\u001b[1;32m   4305\u001b[0m \u001b[0;34m\u001b[0m\u001b[0m\n\u001b[1;32m   4306\u001b[0m     \u001b[0mslobj\u001b[0m \u001b[0;34m=\u001b[0m \u001b[0;34m[\u001b[0m\u001b[0mslice\u001b[0m\u001b[0;34m(\u001b[0m\u001b[0;32mNone\u001b[0m\u001b[0;34m)\u001b[0m\u001b[0;34m]\u001b[0m\u001b[0;34m*\u001b[0m\u001b[0mndim\u001b[0m\u001b[0;34m\u001b[0m\u001b[0;34m\u001b[0m\u001b[0m\n",
            "\u001b[0;31mAxisError\u001b[0m: axis 8 is out of bounds for array of dimension 1"
          ]
        }
      ]
    },
    {
      "cell_type": "code",
      "metadata": {
        "id": "DPFvXO9DGxqA",
        "colab_type": "code",
        "colab": {
          "base_uri": "https://localhost:8080/",
          "height": 52
        },
        "outputId": "0ed61305-c80c-4550-d75f-7babbdde36e1"
      },
      "source": [
        "#What is the output of the following script?\n",
        "\n",
        "print(sum(range(5),-1)) \n",
        "from numpy import * \n",
        "print(sum(range(5),-1)) "
      ],
      "execution_count": null,
      "outputs": [
        {
          "output_type": "stream",
          "text": [
            "9\n",
            "10\n"
          ],
          "name": "stdout"
        }
      ]
    },
    {
      "cell_type": "code",
      "metadata": {
        "id": "PvpL5FHfIHWO",
        "colab_type": "code",
        "colab": {
          "base_uri": "https://localhost:8080/",
          "height": 105
        },
        "outputId": "bfee7a64-b9c6-4152-a605-846534af54b9"
      },
      "source": [
        "#How to find common values between two arrays?\n",
        "\n",
        "ab1 = np.array([0,1,2,3,4,5,6])\n",
        "print(\"First Array {}\".format(ab1))\n",
        "ab2 = np.array([0,3,4,5,11,12,34])\n",
        "print(\"Second Array {}\".format(ab2), \"\\n\")\n",
        "\n",
        "print(\"Comman Values Between two Arrays are\")\n",
        "print(np.intersect1d(ab1,ab2))\n"
      ],
      "execution_count": null,
      "outputs": [
        {
          "output_type": "stream",
          "text": [
            "First Array [0 1 2 3 4 5 6]\n",
            "Second Array [ 0  3  4  5 11 12 34] \n",
            "\n",
            "Comman Values Between two Arrays are\n",
            "[0 3 4 5]\n"
          ],
          "name": "stdout"
        }
      ]
    },
    {
      "cell_type": "code",
      "metadata": {
        "id": "verCawTslm4Q",
        "colab_type": "code",
        "colab": {
          "base_uri": "https://localhost:8080/",
          "height": 70
        },
        "outputId": "715250f1-1072-407e-dfda-617a5de2b84a"
      },
      "source": [
        "#Is the following expressions true? \n",
        "\n",
        "np.sqrt(-1) == np.emath.sqrt(-1)\n",
        "\n",
        "#its False because the value we entered for the Square it is inavlid, its an negative value\n",
        "#reference link = https://math.stackexchange.com/questions/677619/why-is-the-square-root-of-a-negative-number-impossible#:~:text=Any%20number%20times%20itself%20is,can't%20have%20square%20roots."
      ],
      "execution_count": null,
      "outputs": [
        {
          "output_type": "stream",
          "text": [
            "/usr/local/lib/python3.6/dist-packages/ipykernel_launcher.py:1: RuntimeWarning: invalid value encountered in sqrt\n",
            "  \"\"\"Entry point for launching an IPython kernel.\n"
          ],
          "name": "stderr"
        },
        {
          "output_type": "execute_result",
          "data": {
            "text/plain": [
              "False"
            ]
          },
          "metadata": {
            "tags": []
          },
          "execution_count": 19
        }
      ]
    },
    {
      "cell_type": "code",
      "metadata": {
        "id": "R3KqKFICl97Q",
        "colab_type": "code",
        "colab": {
          "base_uri": "https://localhost:8080/",
          "height": 123
        },
        "outputId": "48734307-5f82-4700-e9cc-3faf881e31e8"
      },
      "source": [
        "#Create a 5x5 matrix with row values ranging from 0 to 4\n",
        "ab = np.zeros((5,5))\n",
        "ab += np.arange(5)\n",
        "print(\"Values Ranging from 0 to 4\")\n",
        "print(ab)"
      ],
      "execution_count": null,
      "outputs": [
        {
          "output_type": "stream",
          "text": [
            "Values Ranging from 0 to 4\n",
            "[[0. 1. 2. 3. 4.]\n",
            " [0. 1. 2. 3. 4.]\n",
            " [0. 1. 2. 3. 4.]\n",
            " [0. 1. 2. 3. 4.]\n",
            " [0. 1. 2. 3. 4.]]\n"
          ],
          "name": "stdout"
        }
      ]
    },
    {
      "cell_type": "code",
      "metadata": {
        "id": "D6q6Uf5AnI5e",
        "colab_type": "code",
        "colab": {
          "base_uri": "https://localhost:8080/",
          "height": 52
        },
        "outputId": "8502b117-c8da-4ba7-8018-1b9eb6a76861"
      },
      "source": [
        "#Create a vector of size 10 with values ranging from 0 to 1, both excluded\n",
        "\n",
        "ab = np.linspace(0,1,12,endpoint=True)[1:-1]\n",
        "print(ab)"
      ],
      "execution_count": null,
      "outputs": [
        {
          "output_type": "stream",
          "text": [
            "[0.09090909 0.18181818 0.27272727 0.36363636 0.45454545 0.54545455\n",
            " 0.63636364 0.72727273 0.81818182 0.90909091]\n"
          ],
          "name": "stdout"
        }
      ]
    },
    {
      "cell_type": "code",
      "metadata": {
        "id": "0ZeesDdjpNWb",
        "colab_type": "code",
        "colab": {
          "base_uri": "https://localhost:8080/",
          "height": 141
        },
        "outputId": "05dc03fa-1106-4939-d5b2-725986d31f23"
      },
      "source": [
        "#Create a random vector of size 10 and sort it \n",
        "\n",
        "ab1 = np.random.random(10)\n",
        "print(\"Original Array\")\n",
        "print(ab1, \"\\n\")\n",
        "\n",
        "print(\"Sorted Array\")\n",
        "ab1.sort()\n",
        "print(ab1)"
      ],
      "execution_count": null,
      "outputs": [
        {
          "output_type": "stream",
          "text": [
            "Original Array\n",
            "[0.70574201 0.71434786 0.50928116 0.41639062 0.75785838 0.30565133\n",
            " 0.80049521 0.5725733  0.89953832 0.33652862] \n",
            "\n",
            "Sorted Array\n",
            "[0.30565133 0.33652862 0.41639062 0.50928116 0.5725733  0.70574201\n",
            " 0.71434786 0.75785838 0.80049521 0.89953832]\n"
          ],
          "name": "stdout"
        }
      ]
    },
    {
      "cell_type": "code",
      "metadata": {
        "id": "YtXxArk9pqVM",
        "colab_type": "code",
        "colab": {
          "base_uri": "https://localhost:8080/",
          "height": 158
        },
        "outputId": "a1ae8ee0-5014-4db2-d1e1-1da90466217e"
      },
      "source": [
        "#Consider two random array A and B, check if they are equal \n",
        "#a = list(input(\"Enter\"))\n",
        "\n",
        "A = np.random.randint(1,2,3)\n",
        "print(\"First Array\")\n",
        "print(A, \"\\n\")\n",
        "\n",
        "#b = list(input(\"Enter\"))\n",
        "\n",
        "B = np.random.randint(1,2,3)\n",
        "print(\"Second Array\")\n",
        "print(B, \"\\n\")\n",
        "\n",
        "print(\"Check if two arrays are equal or not\")\n",
        "ar_equal = np.allclose(A, B)\n",
        "\n",
        "#Returns True if two arrays are element-wise equal within a tolerance.\n",
        "#The tolerance values are positive, typically very small numbers. \n",
        "#The relative difference (rtol * abs(b)) and the absolute difference atol are added together to compare against the absolute difference between a and b.\n",
        "#NaNs are treated as equal if they are in the same place and if equal_nan=True. \n",
        "#Infs are treated as equal if they are in the same place and of the same sign in both arrays.\n",
        "\n",
        "print(ar_equal)"
      ],
      "execution_count": null,
      "outputs": [
        {
          "output_type": "stream",
          "text": [
            "First Array\n",
            "[1 1 1] \n",
            "\n",
            "Second Array\n",
            "[1 1 1] \n",
            "\n",
            "Check if two arrays are equal or not\n",
            "True\n"
          ],
          "name": "stdout"
        }
      ]
    },
    {
      "cell_type": "code",
      "metadata": {
        "id": "DXjNwGTEsAKy",
        "colab_type": "code",
        "colab": {}
      },
      "source": [
        ""
      ],
      "execution_count": null,
      "outputs": []
    }
  ]
}